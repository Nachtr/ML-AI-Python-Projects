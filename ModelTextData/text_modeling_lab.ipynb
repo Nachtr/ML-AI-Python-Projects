{
 "cells": [
  {
   "cell_type": "markdown",
   "metadata": {},
   "source": [
    "# Text Modeling with Naive Bayes Lab\n",
    "\n",
    "## Business Scenario\n",
    "\n",
    "You've recently joined UrbanTech, a company that develops software for urban transportation systems. As a junior data scientist on the customer experience team, you've been tasked with improving how the company handles user feedback from their mobile app.\n",
    "\n",
    "UrbanTech has a popular transit navigation app that helps users plan trips using public transportation. The app receives hundreds of user feedback messages daily through its in-app feedback form. Currently, these messages are manually sorted and routed to different teams - a time-consuming process that delays response times and creates inconsistent categorization.\n",
    "\n",
    "Your manager has asked you to develop a text classification system that can automatically categorize incoming feedback messages into three departments:\n",
    "1. **Navigation Issues** - Problems with directions, routes, or maps\n",
    "2. **Service Updates** - Feedback about transit service information accuracy\n",
    "3. **App Experience** - Issues with the app's functionality or user interface\n",
    "\n",
    "By implementing an effective text classification model, you'll help UrbanTech respond to user feedback more quickly and consistently, improving both internal efficiency and user satisfaction. You'll focus on using Naive Bayes, a powerful yet interpretable algorithm that works well with limited training data.\n",
    "\n",
    "## The Process\n",
    "\n",
    "In this lab, you'll follow these steps to build a text classification system:\n",
    "1. Data Loading and Exploration\n",
    "2. Text Preprocessing\n",
    "3. Feature Extraction\n",
    "4. Model Building with Naive Bayes\n",
    "5. Model Evaluation and Comparison\n",
    "6. Model Improvement\n",
    "7. Building a Prediction Function\n",
    "\n",
    "Let's get started!"
   ]
  },
  {
   "cell_type": "markdown",
   "metadata": {},
   "source": [
    "## Step 0: Setup - Import Libraries\n",
    "\n",
    "First, let's import all the necessary libraries for our text classification lab."
   ]
  },
  {
   "cell_type": "code",
   "execution_count": 1,
   "metadata": {
    "ExecuteTime": {
     "end_time": "2025-06-11T12:57:21.286193Z",
     "start_time": "2025-06-11T12:57:20.870741Z"
    }
   },
   "outputs": [
    {
     "name": "stderr",
     "output_type": "stream",
     "text": [
      "[nltk_data] Downloading package punkt to\n",
      "[nltk_data]     /Users/dannydwhitaker/nltk_data...\n",
      "[nltk_data]   Package punkt is already up-to-date!\n",
      "[nltk_data] Downloading package stopwords to\n",
      "[nltk_data]     /Users/dannydwhitaker/nltk_data...\n",
      "[nltk_data]   Package stopwords is already up-to-date!\n",
      "[nltk_data] Downloading package wordnet to\n",
      "[nltk_data]     /Users/dannydwhitaker/nltk_data...\n",
      "[nltk_data]   Package wordnet is already up-to-date!\n"
     ]
    }
   ],
   "source": [
    "# Run this cell without changes\n",
    "# Import required libraries\n",
    "import pandas as pd\n",
    "import numpy as np\n",
    "import matplotlib.pyplot as plt\n",
    "import seaborn as sns\n",
    "import re\n",
    "import string\n",
    "\n",
    "# For text preprocessing and feature extraction\n",
    "import nltk\n",
    "from nltk import pos_tag\n",
    "from nltk.corpus import stopwords, wordnet\n",
    "from nltk.stem import WordNetLemmatizer\n",
    "from nltk.tokenize import word_tokenize\n",
    "from sklearn.feature_extraction.text import CountVectorizer, TfidfVectorizer\n",
    "\n",
    "# For modeling and evaluation\n",
    "from sklearn.model_selection import train_test_split, cross_val_score, GridSearchCV\n",
    "from sklearn.naive_bayes import MultinomialNB\n",
    "from sklearn.metrics import accuracy_score, classification_report, confusion_matrix\n",
    "from sklearn.pipeline import Pipeline\n",
    "\n",
    "# Download required NLTK data\n",
    "nltk.download('punkt')\n",
    "nltk.download('stopwords')\n",
    "nltk.download('wordnet')\n",
    "\n",
    "# Set random seed for reproducibility\n",
    "np.random.seed(42)"
   ]
  },
  {
   "cell_type": "markdown",
   "metadata": {},
   "source": [
    "## Step 1: Data Loading and Exploration\n",
    "\n",
    "Let's load the dataset of user feedback messages and explore its characteristics."
   ]
  },
  {
   "cell_type": "code",
   "execution_count": 2,
   "metadata": {
    "ExecuteTime": {
     "end_time": "2025-06-11T12:57:21.766582Z",
     "start_time": "2025-06-11T12:57:21.753041Z"
    }
   },
   "outputs": [
    {
     "data": {
      "text/html": [
       "<div>\n",
       "<style scoped>\n",
       "    .dataframe tbody tr th:only-of-type {\n",
       "        vertical-align: middle;\n",
       "    }\n",
       "\n",
       "    .dataframe tbody tr th {\n",
       "        vertical-align: top;\n",
       "    }\n",
       "\n",
       "    .dataframe thead th {\n",
       "        text-align: right;\n",
       "    }\n",
       "</style>\n",
       "<table border=\"1\" class=\"dataframe\">\n",
       "  <thead>\n",
       "    <tr style=\"text-align: right;\">\n",
       "      <th></th>\n",
       "      <th>feedback_id</th>\n",
       "      <th>feedback_text</th>\n",
       "      <th>department</th>\n",
       "    </tr>\n",
       "  </thead>\n",
       "  <tbody>\n",
       "    <tr>\n",
       "      <th>0</th>\n",
       "      <td>141</td>\n",
       "      <td>Why does the app need access to my contacts? T...</td>\n",
       "      <td>app_experience</td>\n",
       "    </tr>\n",
       "    <tr>\n",
       "      <th>1</th>\n",
       "      <td>114</td>\n",
       "      <td>The station closure information isn't visible ...</td>\n",
       "      <td>service_updates</td>\n",
       "    </tr>\n",
       "    <tr>\n",
       "      <th>2</th>\n",
       "      <td>17</td>\n",
       "      <td>The crosswalk at Main and Central is shown in ...</td>\n",
       "      <td>navigation_issues</td>\n",
       "    </tr>\n",
       "    <tr>\n",
       "      <th>3</th>\n",
       "      <td>76</td>\n",
       "      <td>The ferry schedule information hasn't been upd...</td>\n",
       "      <td>service_updates</td>\n",
       "    </tr>\n",
       "    <tr>\n",
       "      <th>4</th>\n",
       "      <td>156</td>\n",
       "      <td>Every time I try to submit feedback through th...</td>\n",
       "      <td>app_experience</td>\n",
       "    </tr>\n",
       "  </tbody>\n",
       "</table>\n",
       "</div>"
      ],
      "text/plain": [
       "   feedback_id                                      feedback_text  \\\n",
       "0          141  Why does the app need access to my contacts? T...   \n",
       "1          114  The station closure information isn't visible ...   \n",
       "2           17  The crosswalk at Main and Central is shown in ...   \n",
       "3           76  The ferry schedule information hasn't been upd...   \n",
       "4          156  Every time I try to submit feedback through th...   \n",
       "\n",
       "          department  \n",
       "0     app_experience  \n",
       "1    service_updates  \n",
       "2  navigation_issues  \n",
       "3    service_updates  \n",
       "4     app_experience  "
      ]
     },
     "execution_count": 2,
     "metadata": {},
     "output_type": "execute_result"
    }
   ],
   "source": [
    "# Run this cell without changes\n",
    "# Load the feedback data\n",
    "feedback_data = pd.read_csv('urban_feedback.csv')\n",
    "\n",
    "# Display the first few rows\n",
    "feedback_data.head()"
   ]
  },
  {
   "cell_type": "code",
   "execution_count": 3,
   "metadata": {
    "ExecuteTime": {
     "end_time": "2025-06-11T12:57:22.503827Z",
     "start_time": "2025-06-11T12:57:22.495879Z"
    }
   },
   "outputs": [
    {
     "name": "stdout",
     "output_type": "stream",
     "text": [
      "Dataset shape: (197, 3)\n",
      "\n",
      "Column information:\n",
      "<class 'pandas.core.frame.DataFrame'>\n",
      "RangeIndex: 197 entries, 0 to 196\n",
      "Data columns (total 3 columns):\n",
      " #   Column         Non-Null Count  Dtype \n",
      "---  ------         --------------  ----- \n",
      " 0   feedback_id    197 non-null    int64 \n",
      " 1   feedback_text  197 non-null    object\n",
      " 2   department     197 non-null    object\n",
      "dtypes: int64(1), object(2)\n",
      "memory usage: 4.7+ KB\n",
      "\n",
      "Category distribution:\n",
      "department\n",
      "app_experience       66\n",
      "service_updates      66\n",
      "navigation_issues    65\n",
      "Name: count, dtype: int64\n"
     ]
    }
   ],
   "source": [
    "# Run this cell without changes\n",
    "# Basic information about the dataset\n",
    "print(f\"Dataset shape: {feedback_data.shape}\")\n",
    "print(\"\\nColumn information:\")\n",
    "feedback_data.info()\n",
    "print(f\"\\nCategory distribution:\\n{feedback_data['department'].value_counts()}\")"
   ]
  },
  {
   "cell_type": "code",
   "execution_count": 4,
   "metadata": {
    "ExecuteTime": {
     "end_time": "2025-06-11T12:57:23.214147Z",
     "start_time": "2025-06-11T12:57:23.204464Z"
    }
   },
   "outputs": [],
   "source": [
    "# Replace None with your code\n",
    "# Calculate text length\n",
    "feedback_data['text_length'] = feedback_data['feedback_text'].apply(len);\n",
    "\n",
    "# Calculate basic statistics of text length by department - hint - use groupby and .describe()\n",
    "text_length_stats = feedback_data.groupby('department')['text_length'].describe();"
   ]
  },
  {
   "cell_type": "code",
   "execution_count": 5,
   "metadata": {
    "ExecuteTime": {
     "end_time": "2025-06-11T12:57:24.186918Z",
     "start_time": "2025-06-11T12:57:24.046874Z"
    }
   },
   "outputs": [
    {
     "name": "stdout",
     "output_type": "stream",
     "text": [
      "Text length statistics by department:\n",
      "                   count       mean        std   min   25%   50%   75%    max\n",
      "department                                                                   \n",
      "app_experience      66.0  73.590909  10.169301  56.0  66.5  72.5  78.0  106.0\n",
      "navigation_issues   65.0  78.615385  12.458296  53.0  69.0  78.0  86.0  109.0\n",
      "service_updates     66.0  88.818182  13.205953  69.0  80.0  90.0  95.0  122.0\n"
     ]
    },
    {
     "data": {
      "image/png": "[encoded data removed]",
      "text/plain": [
       "<Figure size 1200x600 with 1 Axes>"
      ]
     },
     "metadata": {},
     "output_type": "display_data"
    }
   ],
   "source": [
    "# Run this cell without changes\n",
    "# Display the statistics\n",
    "print(\"Text length statistics by department:\")\n",
    "print(text_length_stats)\n",
    "\n",
    "# Visualize text length by department\n",
    "plt.figure(figsize=(12, 6))\n",
    "sns.boxplot(x='department', y='text_length', data=feedback_data, hue='department', legend=False)\n",
    "plt.title('Feedback Message Length by Department', fontsize=14)\n",
    "plt.xlabel('Department', fontsize=12)\n",
    "plt.ylabel('Text Length (characters)', fontsize=12)\n",
    "plt.xticks(rotation=45)\n",
    "plt.tight_layout()\n",
    "plt.show()"
   ]
  },
  {
   "cell_type": "markdown",
   "metadata": {},
   "source": [
    "Let's also look at some example feedback messages from each department to better understand the data."
   ]
  },
  {
   "cell_type": "code",
   "execution_count": 6,
   "metadata": {
    "ExecuteTime": {
     "end_time": "2025-06-11T12:57:27.510847Z",
     "start_time": "2025-06-11T12:57:27.502892Z"
    }
   },
   "outputs": [
    {
     "name": "stdout",
     "output_type": "stream",
     "text": [
      "\n",
      "Examples of app_experience feedback:\n",
      "1. Why does the app need constant location access even when I'm not using it?\n",
      "2. Why does the app need to access my photos? This seems unnecessary.\n",
      "3. Why does the app need access to my contacts? This seems like a privacy issue.\n",
      "\n",
      "Examples of service_updates feedback:\n",
      "1. The transit system is on a modified schedule today due to the marathon, but this isn't reflected in your app.\n",
      "2. The weekend service changes aren't reflected in your route suggestions.\n",
      "3. The station closure information isn't visible until after I've planned a route through it.\n",
      "\n",
      "Examples of navigation_issues feedback:\n",
      "1. The waterfront path you suggested is underwater during high tide.\n",
      "2. The suggested route had me walking through a private shopping mall that closes at 9pm.\n",
      "3. The crosswalk at Main and Central is shown in the wrong location on your map.\n"
     ]
    }
   ],
   "source": [
    "# Run this cell without changes\n",
    "# Display examples from each department\n",
    "for dept in feedback_data['department'].unique():\n",
    "    print(f\"\\nExamples of {dept} feedback:\")\n",
    "    examples = feedback_data[feedback_data['department'] == dept]['feedback_text'].sample(3, random_state=42).values\n",
    "    for i, example in enumerate(examples, 1):\n",
    "        print(f\"{i}. {example}\")"
   ]
  },
  {
   "cell_type": "code",
   "execution_count": 7,
   "metadata": {
    "ExecuteTime": {
     "end_time": "2025-06-11T12:57:30.126693Z",
     "start_time": "2025-06-11T12:57:30.120399Z"
    }
   },
   "outputs": [],
   "source": [
    "# Replace None with your code\n",
    "def clean_text(text):\n",
    "    \"\"\"\n",
    "    Clean and preprocess text by:\n",
    "    - Converting to lowercase\n",
    "    - Removing punctuation and special characters\n",
    "    - Removing numbers\n",
    "    \n",
    "    Parameters:\n",
    "    -----------\n",
    "    text : str\n",
    "        The text to clean\n",
    "        \n",
    "    Returns:\n",
    "    --------\n",
    "    str\n",
    "        Cleaned text\n",
    "    \"\"\"\n",
    "    # Convert to lowercase\n",
    "    text = text.lower(); # make sure everythinbg is lowercase!!\n",
    "    \n",
    "    # Remove punctuation\n",
    "    text = re.sub(r'[^a-z\\s]', '', text); # contemplated using the autofill but decided this was a better re\n",
    "    \n",
    "    return text\n",
    "\n",
    "# Helper function for lemmatization with POS tagging\n",
    "def get_wordnet_pos(treebank_tag):\n",
    "    \"\"\"\n",
    "    Convert NLTK POS tags to WordNet POS tags\n",
    "    \"\"\"\n",
    "    if treebank_tag.startswith('J'):\n",
    "        return wordnet.ADJ\n",
    "    elif treebank_tag.startswith('V'):\n",
    "        return wordnet.VERB\n",
    "    elif treebank_tag.startswith('N'):\n",
    "        return wordnet.NOUN\n",
    "    elif treebank_tag.startswith('R'):\n",
    "        return wordnet.ADV\n",
    "    else:\n",
    "        return wordnet.NOUN # this one should be fine\n",
    "\n",
    "def tokenize_and_lemmatize(text):\n",
    "    \"\"\"\n",
    "    Tokenize text, remove stopwords, and lemmatize tokens.\n",
    "    \n",
    "    Parameters:\n",
    "    -----------\n",
    "    text : str\n",
    "        The text to process\n",
    "        \n",
    "    Returns:\n",
    "    --------\n",
    "    list\n",
    "        List of processed tokens\n",
    "    \"\"\"\n",
    "    # Initialize lemmatizer\n",
    "    lemmatizer = WordNetLemmatizer()\n",
    "    \n",
    "    # Get stopwords\n",
    "    stop_words = set(stopwords.words('english')); # will remove some of what's not necessary\n",
    "    \n",
    "    # Tokenize text\n",
    "    tokens = word_tokenize(text);\n",
    "    \n",
    "    # Tag tokens with parts of speech\n",
    "    tokens_tagged = nltk.pos_tag(tokens); # side note, I really appreciate jupyters cells as terminals thing\n",
    "    \n",
    "    # Convert to WordNet POS tags\n",
    "    pos_tokens = [(token, get_wordnet_pos(tag)) for token, tag in tokens_tagged];\n",
    "    # # Remove stopwords and lemmatize\n",
    "    processed_tokens = [\n",
    "        lemmatizer.lemmatize(token, pos = pos_tag)\n",
    "        for token, pos_tag in pos_tokens\n",
    "        if token not in stop_words\n",
    "    ]\n",
    "    \n",
    "    return processed_tokens\n",
    "\n",
    "def preprocess_text(text):\n",
    "    \"\"\"\n",
    "    Complete preprocessing pipeline: clean, tokenize, lemmatize, and rejoin.\n",
    "    \n",
    "    Parameters:\n",
    "    -----------\n",
    "    text : str\n",
    "        The raw text to process\n",
    "        \n",
    "    Returns:\n",
    "    --------\n",
    "    str\n",
    "        Fully processed text\n",
    "    \"\"\"\n",
    "      # Apply cleaning\n",
    "    cleaned_text = clean_text(text)\n",
    "    \n",
    "    # Apply tokenization and lemmatization\n",
    "    processed_tokens = tokenize_and_lemmatize(cleaned_text)\n",
    "    \n",
    "    # Join tokens back into single text string\n",
    "    processed_text = ' '.join(processed_tokens) # stitching it all back together.\n",
    "    \n",
    "    return processed_text"
   ]
  },
  {
   "cell_type": "code",
   "execution_count": 8,
   "metadata": {
    "ExecuteTime": {
     "end_time": "2025-06-11T12:57:32.689484Z",
     "start_time": "2025-06-11T12:57:32.641142Z"
    }
   },
   "outputs": [
    {
     "name": "stdout",
     "output_type": "stream",
     "text": [
      "Original text:\n",
      "Why does the app need access to my contacts? This seems like a privacy issue.\n",
      "\n",
      "Cleaned text:\n",
      "why does the app need access to my contacts this seems like a privacy issue\n",
      "\n",
      "Tokenized and lemmatized text:\n",
      "['app', 'need', 'access', 'contact', 'seem', 'like', 'privacy', 'issue']\n",
      "\n",
      "Fully preprocessed text:\n",
      "app need access contact seem like privacy issue\n"
     ]
    }
   ],
   "source": [
    "# Run this cell without changes\n",
    "# Test our preprocessing functions on a sample feedback message\n",
    "sample_text = feedback_data['feedback_text'].iloc[0]\n",
    "print(f\"Original text:\\n{sample_text}\")\n",
    "\n",
    "cleaned_text = clean_text(sample_text)\n",
    "print(f\"\\nCleaned text:\\n{cleaned_text}\")\n",
    "\n",
    "tokens = tokenize_and_lemmatize(cleaned_text)\n",
    "print(f\"\\nTokenized and lemmatized text:\\n{tokens}\")\n",
    "\n",
    "processed_text = preprocess_text(sample_text)\n",
    "print(f\"\\nFully preprocessed text:\\n{processed_text}\")"
   ]
  },
  {
   "cell_type": "markdown",
   "metadata": {},
   "source": [
    "## Step 3: Feature Extraction\n",
    "\n",
    "Now, let's split our data into training and testing sets, and convert the text into numerical features using different vectorization approaches."
   ]
  },
  {
   "cell_type": "code",
   "execution_count": 9,
   "metadata": {
    "ExecuteTime": {
     "end_time": "2025-06-11T13:01:28.211250Z",
     "start_time": "2025-06-11T13:01:28.084057Z"
    }
   },
   "outputs": [],
   "source": [
    "# Replace None with your code\n",
    "# Split the data into training and testing sets (80% train, 20% test, random_state=42, stratify based on department)\n",
    "X_train, X_test, y_train, y_test = train_test_split(\n",
    "    feedback_data['feedback_text'],         # Raw text\n",
    "    feedback_data['department'],            # Target labels\n",
    "    test_size = 0.2,                        # 20% test set\n",
    "    random_state = 42,\n",
    "    stratify = feedback_data['department']  # Stratified to balance classes\n",
    ");\n",
    "\n",
    "# Create and fit a Bag of Words vectorizer (preprocessor=preprocess_text, max_features=50)\n",
    "count_vectorizer = CountVectorizer(preprocessor = preprocess_text, max_features = 50);\n",
    "X_train_counts = count_vectorizer.fit_transform(X_train);\n",
    "\n",
    "# Create and fit a TF-IDF vectorizer (preprocessor=preprocess_text, max_features=50)\n",
    "tfidf_vectorizer = TfidfVectorizer(preprocessor = preprocess_text, max_features = 50);\n",
    "X_train_tfidf = tfidf_vectorizer.fit_transform(X_train);"
   ]
  },
  {
   "cell_type": "code",
   "execution_count": 10,
   "metadata": {
    "ExecuteTime": {
     "end_time": "2025-06-11T13:01:30.631635Z",
     "start_time": "2025-06-11T13:01:30.625029Z"
    }
   },
   "outputs": [
    {
     "name": "stdout",
     "output_type": "stream",
     "text": [
      "Training set size: 157\n",
      "Testing set size: 40\n",
      "\n",
      "Class distribution in training set:\n",
      "department\n",
      "service_updates      53\n",
      "app_experience       52\n",
      "navigation_issues    52\n",
      "Name: count, dtype: int64\n",
      "\n",
      "Class distribution in testing set:\n",
      "department\n",
      "app_experience       14\n",
      "navigation_issues    13\n",
      "service_updates      13\n",
      "Name: count, dtype: int64\n",
      "Bag of Words vocabulary size: 50\n",
      "TF-IDF vocabulary size: 50\n",
      "\n",
      "Bag of Words feature matrix shape: (157, 50)\n",
      "TF-IDF feature matrix shape: (157, 50)\n",
      "\n",
      "Sample of feature names: ['accord' 'actually' 'alert' 'app' 'bus' 'cant' 'close' 'direction'\n",
      " 'doesnt' 'dont']\n"
     ]
    }
   ],
   "source": [
    "# Run this cell without changes\n",
    "# Confirm the split\n",
    "print(f\"Training set size: {len(X_train)}\")\n",
    "print(f\"Testing set size: {len(X_test)}\")\n",
    "print(f\"\\nClass distribution in training set:\\n{y_train.value_counts()}\")\n",
    "print(f\"\\nClass distribution in testing set:\\n{y_test.value_counts()}\")\n",
    "\n",
    "# Examine the vocabulary size for each vectorizer (should be 50)\n",
    "count_vocab_size = len(count_vectorizer.get_feature_names_out())\n",
    "tfidf_vocab_size = len(tfidf_vectorizer.get_feature_names_out())\n",
    "\n",
    "print(f\"Bag of Words vocabulary size: {count_vocab_size}\")\n",
    "print(f\"TF-IDF vocabulary size: {tfidf_vocab_size}\")\n",
    "\n",
    "# Examine the feature matrices\n",
    "print(f\"\\nBag of Words feature matrix shape: {X_train_counts.shape}\")\n",
    "print(f\"TF-IDF feature matrix shape: {X_train_tfidf.shape}\")\n",
    "\n",
    "# Show the first few feature names\n",
    "print(f\"\\nSample of feature names: {count_vectorizer.get_feature_names_out()[:10]}\")"
   ]
  },
  {
   "cell_type": "markdown",
   "metadata": {},
   "source": [
    "## Step 4: Model Building with Naive Bayes\n",
    "\n",
    "Now, let's build Multinomial Naive Bayes classifiers using both feature representations."
   ]
  },
  {
   "cell_type": "code",
   "execution_count": 11,
   "metadata": {
    "ExecuteTime": {
     "end_time": "2025-06-11T13:07:58.783468Z",
     "start_time": "2025-06-11T13:07:58.772070Z"
    }
   },
   "outputs": [],
   "source": [
    "# Replace None with your code\n",
    "# Create and train a Multinomial Naive Bayes model with Bag of Words features\n",
    "# Train naive bayes with bag of words features\n",
    "nb_bow = MultinomialNB();\n",
    "nb_bow.fit(X_train_counts, y_train);\n",
    "\n",
    "# Create and train a Multinomial Naive Bayes model with TF-IDF features\n",
    "# Train naive bayes with TF-IDF features\n",
    "nb_tfidf = MultinomialNB();\n",
    "nb_tfidf.fit(X_train_tfidf, y_train);\n",
    "\n",
    "# Function to display the most informative features for each class\n",
    "def display_top_features(classifier, vectorizer, class_labels, n=5):\n",
    "    \"\"\"\n",
    "    Display the top n most informative features for each class.\n",
    "    \n",
    "    Parameters:\n",
    "    -----------\n",
    "    classifier : MultinomialNB\n",
    "        Trained Naive Bayes classifier\n",
    "    vectorizer : CountVectorizer or TfidfVectorizer\n",
    "        Fitted vectorizer used to transform the training data\n",
    "    class_labels : array-like\n",
    "        List of class labels\n",
    "    n : int, default=5\n",
    "        Number of top features to display per class\n",
    "        \n",
    "    Returns:\n",
    "    --------\n",
    "    dict\n",
    "        Dictionary mapping class labels to top features\n",
    "    \"\"\"\n",
    "    # Get feature names\n",
    "    feature_names = vectorizer.get_feature_names_out();\n",
    "    \n",
    "    top_features = {}\n",
    "    \n",
    "    # For each class, find the features with highest log probability\n",
    "    for i, label in enumerate(class_labels):\n",
    "        # Sort indices by feature log probability\n",
    "        top_indices = np.argsort(classifier.feature_log_prob_[i])[::-1][:n];\n",
    "        \n",
    "        # Get the feature names\n",
    "        top_features[label] = feature_names[top_indices];\n",
    "        \n",
    "        # Print the top features\n",
    "        print(f\"\\nTop {n} features for class '{label}':\")\n",
    "        for rank, feature in enumerate(top_features[label], 1):\n",
    "            print(f\"{rank}. {feature}\")\n",
    "    \n",
    "    return top_features"
   ]
  },
  {
   "cell_type": "code",
   "execution_count": 12,
   "metadata": {
    "ExecuteTime": {
     "end_time": "2025-06-11T13:08:00.140326Z",
     "start_time": "2025-06-11T13:08:00.138195Z"
    }
   },
   "outputs": [
    {
     "name": "stdout",
     "output_type": "stream",
     "text": [
      "Top features from Bag of Words model:\n",
      "\n",
      "Top 5 features for class 'app_experience':\n",
      "1. app\n",
      "2. update\n",
      "3. cant\n",
      "4. even\n",
      "5. notification\n",
      "\n",
      "Top 5 features for class 'navigation_issues':\n",
      "1. map\n",
      "2. doesnt\n",
      "3. show\n",
      "4. station\n",
      "5. app\n",
      "\n",
      "Top 5 features for class 'service_updates':\n",
      "1. app\n",
      "2. bus\n",
      "3. show\n",
      "4. service\n",
      "5. minute\n",
      "\n",
      "Top features from TF-IDF model:\n",
      "\n",
      "Top 5 features for class 'app_experience':\n",
      "1. app\n",
      "2. cant\n",
      "3. update\n",
      "4. even\n",
      "5. use\n",
      "\n",
      "Top 5 features for class 'navigation_issues':\n",
      "1. map\n",
      "2. doesnt\n",
      "3. show\n",
      "4. station\n",
      "5. route\n",
      "\n",
      "Top 5 features for class 'service_updates':\n",
      "1. service\n",
      "2. bus\n",
      "3. show\n",
      "4. app\n",
      "5. schedule\n"
     ]
    }
   ],
   "source": [
    "# Run this cell without changes\n",
    "# Display top features for the Bag of Words model\n",
    "print(\"Top features from Bag of Words model:\")\n",
    "bow_top_features = display_top_features(nb_bow, count_vectorizer, nb_bow.classes_)\n",
    "\n",
    "# Display top features for the TF-IDF model\n",
    "print(\"\\nTop features from TF-IDF model:\")\n",
    "tfidf_top_features = display_top_features(nb_tfidf, tfidf_vectorizer, nb_tfidf.classes_)"
   ]
  },
  {
   "cell_type": "markdown",
   "metadata": {},
   "source": [
    "## Step 5: Model Evaluation and Comparison\n",
    "\n",
    "Let's evaluate our models on the test set and compare their performance."
   ]
  },
  {
   "cell_type": "code",
   "execution_count": 13,
   "metadata": {
    "ExecuteTime": {
     "end_time": "2025-06-11T13:10:01.220958Z",
     "start_time": "2025-06-11T13:10:01.178487Z"
    }
   },
   "outputs": [],
   "source": [
    "# Replace None with your code\n",
    "# Transform the test data with both vectorizers\n",
    "X_test_counts = count_vectorizer.transform(X_test)\n",
    "X_test_tfidf = tfidf_vectorizer.transform(X_test)\n",
    "\n",
    "# Predict on the test data with both models\n",
    "y_pred_bow = nb_bow.predict(X_test_counts)\n",
    "y_pred_tfidf = nb_tfidf.predict(X_test_tfidf)\n",
    "\n",
    "# Function to evaluate a model and display results\n",
    "def evaluate_model(y_true, y_pred, model_name):\n",
    "    \"\"\"\n",
    "    Evaluate a model and display its performance metrics.\n",
    "    \n",
    "    Parameters:\n",
    "    -----------\n",
    "    y_true : array-like\n",
    "        True class labels\n",
    "    y_pred : array-like\n",
    "        Predicted class labels\n",
    "    model_name : str\n",
    "        Name of the model being evaluated\n",
    "        \n",
    "    Returns:\n",
    "    --------\n",
    "    float\n",
    "        Accuracy score\n",
    "    \"\"\"\n",
    "    # Calculate accuracy\n",
    "    accuracy = accuracy_score(y_true, y_pred)\n",
    "    \n",
    "    # Print evaluation results\n",
    "    print(f\"Evaluation for {model_name}:\")\n",
    "    print(f\"Accuracy: {accuracy:.4f}\")\n",
    "    \n",
    "    # Generate and print classification report\n",
    "    report = classification_report(y_true, y_pred)\n",
    "    print(f\"\\nClassification Report:\\n{report}\")\n",
    "    \n",
    "    # Return the accuracy\n",
    "    return accuracy"
   ]
  },
  {
   "cell_type": "code",
   "execution_count": 14,
   "metadata": {
    "ExecuteTime": {
     "end_time": "2025-06-11T13:10:04.684028Z",
     "start_time": "2025-06-11T13:10:04.481631Z"
    }
   },
   "outputs": [
    {
     "name": "stdout",
     "output_type": "stream",
     "text": [
      "Evaluation for Bag of Words + Naive Bayes:\n",
      "Accuracy: 0.7000\n",
      "\n",
      "Classification Report:\n",
      "                   precision    recall  f1-score   support\n",
      "\n",
      "   app_experience       0.91      0.71      0.80        14\n",
      "navigation_issues       0.69      0.69      0.69        13\n",
      "  service_updates       0.56      0.69      0.62        13\n",
      "\n",
      "         accuracy                           0.70        40\n",
      "        macro avg       0.72      0.70      0.70        40\n",
      "     weighted avg       0.73      0.70      0.71        40\n",
      "\n",
      "Evaluation for TF-IDF + Naive Bayes:\n",
      "Accuracy: 0.7250\n",
      "\n",
      "Classification Report:\n",
      "                   precision    recall  f1-score   support\n",
      "\n",
      "   app_experience       0.91      0.71      0.80        14\n",
      "navigation_issues       0.75      0.69      0.72        13\n",
      "  service_updates       0.59      0.77      0.67        13\n",
      "\n",
      "         accuracy                           0.72        40\n",
      "        macro avg       0.75      0.73      0.73        40\n",
      "     weighted avg       0.75      0.72      0.73        40\n",
      "\n"
     ]
    },
    {
     "data": {
      "image/png": "[encoded data removed]",
      "text/plain": [
       "<Figure size 1600x600 with 4 Axes>"
      ]
     },
     "metadata": {},
     "output_type": "display_data"
    },
    {
     "data": {
      "image/png": "[encoded data removed]",
      "text/plain": [
       "<Figure size 1000x600 with 1 Axes>"
      ]
     },
     "metadata": {},
     "output_type": "display_data"
    }
   ],
   "source": [
    "# Run this cell without changes\n",
    "# Evaluate both models\n",
    "bow_accuracy = evaluate_model(y_test, y_pred_bow, \"Bag of Words + Naive Bayes\")\n",
    "tfidf_accuracy = evaluate_model(y_test, y_pred_tfidf, \"TF-IDF + Naive Bayes\")\n",
    "\n",
    "# Create confusion matrices for both models\n",
    "fig, axes = plt.subplots(1, 2, figsize=(16, 6))\n",
    "\n",
    "# Confusion matrix for Bag of Words model\n",
    "cm_bow = confusion_matrix(y_test, y_pred_bow)\n",
    "sns.heatmap(cm_bow, annot=True, fmt='d', cmap='Blues', xticklabels=nb_bow.classes_, \n",
    "            yticklabels=nb_bow.classes_, ax=axes[0])\n",
    "axes[0].set_title('Confusion Matrix - Bag of Words Model', fontsize=12)\n",
    "axes[0].set_xlabel('Predicted Label', fontsize=10)\n",
    "axes[0].set_ylabel('True Label', fontsize=10)\n",
    "\n",
    "# Confusion matrix for TF-IDF model\n",
    "cm_tfidf = confusion_matrix(y_test, y_pred_tfidf)\n",
    "sns.heatmap(cm_tfidf, annot=True, fmt='d', cmap='Blues', xticklabels=nb_tfidf.classes_, \n",
    "            yticklabels=nb_tfidf.classes_, ax=axes[1])\n",
    "axes[1].set_title('Confusion Matrix - TF-IDF Model', fontsize=12)\n",
    "axes[1].set_xlabel('Predicted Label', fontsize=10)\n",
    "axes[1].set_ylabel('True Label', fontsize=10)\n",
    "\n",
    "plt.tight_layout()\n",
    "plt.show()\n",
    "\n",
    "# Compare model accuracies\n",
    "models = ['Bag of Words + Naive Bayes', 'TF-IDF + Naive Bayes']\n",
    "accuracies = [bow_accuracy, tfidf_accuracy]\n",
    "\n",
    "plt.figure(figsize=(10, 6))\n",
    "sns.barplot(x=models, y=accuracies)\n",
    "plt.title('Model Accuracy Comparison', fontsize=14)\n",
    "plt.xlabel('Model', fontsize=12)\n",
    "plt.ylabel('Accuracy', fontsize=12)\n",
    "plt.ylim(0, 1)\n",
    "plt.xticks(rotation=15)\n",
    "\n",
    "# Add accuracy labels to the bars\n",
    "for i, acc in enumerate(accuracies):\n",
    "    plt.text(i, acc + 0.01, f'{acc:.4f}', ha='center', va='bottom', fontsize=12)\n",
    "\n",
    "plt.tight_layout()\n",
    "plt.show()"
   ]
  },
  {
   "cell_type": "code",
   "execution_count": 15,
   "metadata": {
    "ExecuteTime": {
     "end_time": "2025-06-11T13:14:08.623195Z",
     "start_time": "2025-06-11T13:14:08.596597Z"
    }
   },
   "outputs": [
    {
     "name": "stdout",
     "output_type": "stream",
     "text": [
      "Cross-Val Scores: [0.75       0.84375    0.87096774 0.70967742 0.74193548]\n",
      "Mean CV Acc: 0.7832661290322582\n"
     ]
    }
   ],
   "source": [
    "# Test cell\n",
    "cv_scores = cross_val_score(nb_tfidf,X_train_tfidf, y_train, cv = 5);\n",
    "print(f\"Cross-Val Scores: {cv_scores}\")\n",
    "print(f\"Mean CV Acc: {cv_scores.mean()}\")"
   ]
  },
  {
   "cell_type": "markdown",
   "metadata": {},
   "source": [
    "## Step 6: Model Improvement\n",
    "\n",
    "Let's try to improve the better model (TF-IDF) by tuning the hyperparameters and refining the feature extraction."
   ]
  },
  {
   "cell_type": "code",
   "execution_count": 16,
   "metadata": {
    "ExecuteTime": {
     "end_time": "2025-06-11T13:22:06.112147Z",
     "start_time": "2025-06-11T13:21:50.216630Z"
    }
   },
   "outputs": [],
   "source": [
    "# Replace None with your code\n",
    "# Let's perform grid search to tune both vectorizer and model parameters together\n",
    "# Create a pipeline that combines vectorization and classification - name the steps 'vectorizer' and 'classifier' respectively\n",
    "text_clf = Pipeline([\n",
    "    ('vectorizer', TfidfVectorizer(preprocessor = preprocess_text)),\n",
    "    ('classifier', MultinomialNB())\n",
    "])\n",
    "\n",
    "# Define parameter grid to search\n",
    "# This includes parameters for both the vectorizer and the classifier\n",
    "param_grid = {\n",
    "    # Vectorizer type and parameters\n",
    "    # 'vectorizer': [count_vectorizer, tfidf_vectorizer],\n",
    "\n",
    "    # Parameters for CountVectorizer and TfidfVectorizer\n",
    "    'vectorizer__max_features': [50, 100],\n",
    "    'vectorizer__min_df': [1, 2, 3],\n",
    "    'vectorizer__max_df': [0.85, 0.9, 0.95],\n",
    "    'vectorizer__ngram_range': [(1, 1), (1, 2)],\n",
    "\n",
    "    # Classifier parameters\n",
    "    'classifier__alpha': [0.5, 1.0]\n",
    "}\n",
    "\n",
    "# Create a grid search object\n",
    "grid_search = GridSearchCV(text_clf, param_grid, cv = 5, n_jobs = 1) # If I remove -1 from n_jobs here it seems to work and not error out?\n",
    "# I guess cause we are removing parallel processing and not pickling it works fine?\n",
    "\n",
    "# Fit the grid search to the training data\n",
    "grid_search.fit(X_train, y_train)\n",
    "\n",
    "# Use the best estimator to make predictions on the test set\n",
    "best_model = grid_search.best_estimator_\n",
    "y_pred_grid = best_model.predict(X_test)\n",
    "\n",
    "# Error pickling? Could it be because we are trying to pass a fitted object? into GSCV?"
   ]
  },
  {
   "cell_type": "code",
   "execution_count": 17,
   "metadata": {
    "ExecuteTime": {
     "end_time": "2025-06-11T13:23:14.793691Z",
     "start_time": "2025-06-11T13:23:14.787296Z"
    }
   },
   "outputs": [
    {
     "name": "stdout",
     "output_type": "stream",
     "text": [
      "Best Parameters:\n",
      "{'classifier__alpha': 1.0, 'vectorizer__max_df': 0.85, 'vectorizer__max_features': 100, 'vectorizer__min_df': 2, 'vectorizer__ngram_range': (1, 2)}\n",
      "\n",
      "Best Cross-Validation Score: 0.8276\n"
     ]
    }
   ],
   "source": [
    "# Run this cell without changes\n",
    "# Evaluate the best model from grid search\n",
    "# Print the best parameters and score\n",
    "print(\"Best Parameters:\")\n",
    "print(grid_search.best_params_)\n",
    "print(f\"\\nBest Cross-Validation Score: {grid_search.best_score_:.4f}\")"
   ]
  },
  {
   "cell_type": "code",
   "execution_count": 18,
   "metadata": {
    "ExecuteTime": {
     "end_time": "2025-06-11T13:23:16.632872Z",
     "start_time": "2025-06-11T13:23:16.623633Z"
    }
   },
   "outputs": [
    {
     "name": "stdout",
     "output_type": "stream",
     "text": [
      "Evaluation for Improved TF-IDF + Naive Bayes:\n",
      "Accuracy: 0.7500\n",
      "\n",
      "Classification Report:\n",
      "                   precision    recall  f1-score   support\n",
      "\n",
      "   app_experience       0.92      0.79      0.85        14\n",
      "navigation_issues       0.73      0.62      0.67        13\n",
      "  service_updates       0.65      0.85      0.73        13\n",
      "\n",
      "         accuracy                           0.75        40\n",
      "        macro avg       0.76      0.75      0.75        40\n",
      "     weighted avg       0.77      0.75      0.75        40\n",
      "\n"
     ]
    }
   ],
   "source": [
    "# Run this cell without changes\n",
    "# Evaluate the improved model\n",
    "improved_tfidf_accuracy = evaluate_model(y_test, y_pred_grid, \"Improved TF-IDF + Naive Bayes\")"
   ]
  },
  {
   "cell_type": "markdown",
   "metadata": {},
   "source": [
    "## Step 7: Building a Prediction Function\n",
    "\n",
    "Finally, let's create a function that can take new feedback messages and classify them into the appropriate department. This would be the function that UrbanTech could integrate into their feedback processing system."
   ]
  },
  {
   "cell_type": "code",
   "execution_count": 19,
   "metadata": {
    "ExecuteTime": {
     "end_time": "2025-06-11T13:26:27.011992Z",
     "start_time": "2025-06-11T13:26:27.004959Z"
    }
   },
   "outputs": [],
   "source": [
    "# Replace None with your code\n",
    "def classify_feedback(feedback_text):\n",
    "    \"\"\"\n",
    "    Classify a new feedback message into the appropriate department.\n",
    "    \n",
    "    Parameters:\n",
    "    -----------\n",
    "    feedback_text : str\n",
    "        The raw feedback message to classify\n",
    "    model : classifier\n",
    "        Trained classification model\n",
    "    vectorizer : vectorizer\n",
    "        Fitted vectorizer to transform the text\n",
    "        \n",
    "    Returns:\n",
    "    --------\n",
    "    dict\n",
    "        Dictionary containing classification results\n",
    "    \"\"\"\n",
    "    # Predict the department\n",
    "    department = best_model.predict([feedback_text])[0]\n",
    "    \n",
    "    # Get prediction probabilities\n",
    "    probabilities = best_model.predict_proba([feedback_text])\n",
    "    # I think?\n",
    "\n",
    "    # Find the confidence (probability of the predicted class)\n",
    "    confidence = np.max(probabilities)\n",
    "    \n",
    "    # Create and return the result dictionary\n",
    "    result = {\n",
    "        'feedback_text': feedback_text,\n",
    "        'department': department,\n",
    "        'confidence': confidence,\n",
    "        'all_probabilities': dict(zip(best_model.classes_, probabilities[0]))\n",
    "    }\n",
    "    \n",
    "    return result"
   ]
  },
  {
   "cell_type": "code",
   "execution_count": 20,
   "metadata": {
    "ExecuteTime": {
     "end_time": "2025-06-11T13:26:28.178624Z",
     "start_time": "2025-06-11T13:26:28.161683Z"
    }
   },
   "outputs": [
    {
     "name": "stdout",
     "output_type": "stream",
     "text": [
      "Feedback: The app crashed when I tried to view the bus schedule.\n",
      "Predicted Department: app_experience\n",
      "Confidence: 0.4730\n",
      "All department probabilities:\n",
      "  app_experience: 0.4730\n",
      "  navigation_issues: 0.1558\n",
      "  service_updates: 0.3712\n",
      "Feedback: Your subway arrival times were completely wrong! The train was 10 minutes late.\n",
      "Predicted Department: service_updates\n",
      "Confidence: 0.6139\n",
      "All department probabilities:\n",
      "  app_experience: 0.2172\n",
      "  navigation_issues: 0.1689\n",
      "  service_updates: 0.6139\n",
      "Feedback: I love the new route planning feature, but the app is very slow to load maps.\n",
      "Predicted Department: navigation_issues\n",
      "Confidence: 0.5477\n",
      "All department probabilities:\n",
      "  app_experience: 0.3720\n",
      "  navigation_issues: 0.5477\n",
      "  service_updates: 0.0803\n",
      "Feedback: Can you add more bike routes to the navigation options?\n",
      "Predicted Department: navigation_issues\n",
      "Confidence: 0.5923\n",
      "All department probabilities:\n",
      "  app_experience: 0.2989\n",
      "  navigation_issues: 0.5923\n",
      "  service_updates: 0.1088\n",
      "Feedback: The bus schedule says the next bus is in 5 minutes, but it's already been 20 minutes and no bus.\n",
      "Predicted Department: service_updates\n",
      "Confidence: 0.8651\n",
      "All department probabilities:\n",
      "  app_experience: 0.0522\n",
      "  navigation_issues: 0.0827\n",
      "  service_updates: 0.8651\n"
     ]
    }
   ],
   "source": [
    "# Run this cell without changes\n",
    "# Test the classification function with new feedback messages\n",
    "new_feedback = [\n",
    "    \"The app crashed when I tried to view the bus schedule.\",\n",
    "    \"Your subway arrival times were completely wrong! The train was 10 minutes late.\",\n",
    "    \"I love the new route planning feature, but the app is very slow to load maps.\",\n",
    "    \"Can you add more bike routes to the navigation options?\", \n",
    "    \"The bus schedule says the next bus is in 5 minutes, but it's already been 20 minutes and no bus.\"]\n",
    "\n",
    "for feedback in new_feedback:\n",
    "    result = classify_feedback(feedback)\n",
    "    \n",
    "    print(f'Feedback: {result['feedback_text']}')\n",
    "    print(f'Predicted Department: {result['department']}')\n",
    "    print(f'Confidence: {result['confidence']:.4f}')\n",
    "    \n",
    "    # Show all class probabilities\n",
    "    print('All department probabilities:')\n",
    "    for dept, prob in result['all_probabilities'].items():\n",
    "        print(f'  {dept}: {prob:.4f}')"
   ]
  },
  {
   "cell_type": "markdown",
   "metadata": {},
   "source": [
    "## Conclusion\n",
    "\n",
    "Congratulations! You've successfully built a text classification system that can automatically categorize user feedback messages for UrbanTech's transit app. In this lab, you've learned how to:\n",
    "\n",
    "1. Preprocess text data to make it suitable for machine learning\n",
    "2. Extract features using different vectorization techniques (Bag of Words and TF-IDF)\n",
    "3. Build and train Multinomial Naive Bayes classifiers for text classification\n",
    "4. Evaluate and compare model performance using appropriate metrics\n",
    "5. Tune hyperparameters to improve model performance\n",
    "6. Create a practical classification function that could be integrated into a production system\n",
    "7. Package everything into a pipeline for easier deployment\n",
    "\n",
    "The classification system you've built could significantly improve UrbanTech's ability to handle user feedback efficiently, ensuring that issues are routed to the correct department for prompt resolution. This would enhance the user experience by enabling quicker response times and more consistent handling of feedback.\n",
    "\n",
    "Remember that in a real-world scenario, you would need to periodically retrain your model with new data to ensure it remains accurate as user feedback patterns change over time."
   ]
  }
 ],
 "metadata": {
  "kernelspec": {
   "display_name": "Python [conda env:base] *",
   "language": "python",
   "name": "conda-base-py"
  },
  "language_info": {
   "codemirror_mode": {
    "name": "ipython",
    "version": 3
   },
   "file_extension": ".py",
   "mimetype": "text/x-python",
   "name": "python",
   "nbconvert_exporter": "python",
   "pygments_lexer": "ipython3",
   "version": "3.12.7"
  }
 },
 "nbformat": 4,
 "nbformat_minor": 4
}
